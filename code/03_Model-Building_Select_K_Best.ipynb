{
 "cells": [
  {
   "cell_type": "markdown",
   "id": "9b838279",
   "metadata": {},
   "source": [
    "## Goal of the notebook\n",
    "\n",
    "In this notebook I will be using countvectorized dataframe, then I will be selecting 100 top features by SelectKBest( ) and use them further to model. I will be running two models here:\n",
    "\n",
    "- RandomForestClassifier( )\n",
    "- LogisticRegression( )\n"
   ]
  },
  {
   "cell_type": "code",
   "execution_count": 1,
   "id": "b4423de2",
   "metadata": {},
   "outputs": [],
   "source": [
    "import pandas as pd\n",
    "import matplotlib.pyplot as plt\n",
    "import seaborn as sns\n",
    "import re\n",
    "import numpy as np\n",
    "from sklearn.model_selection import train_test_split, cross_val_score, GridSearchCV,KFold,StratifiedKFold\n",
    "from sklearn.ensemble import RandomForestClassifier\n",
    "\n",
    "from sklearn.metrics import (accuracy_score, precision_score, recall_score, f1_score,\n",
    "                            confusion_matrix, \n",
    "                            classification_report,ConfusionMatrixDisplay,\n",
    "                            plot_confusion_matrix)\n",
    "\n",
    "from sklearn.linear_model import LogisticRegression \n",
    "\n",
    "\n",
    "np.random.seed(73) #to maintain consistency in reproducibility of same numbers across\n"
   ]
  },
  {
   "cell_type": "code",
   "execution_count": 3,
   "id": "34ea4686",
   "metadata": {},
   "outputs": [
    {
     "data": {
      "text/html": [
       "<div>\n",
       "<style scoped>\n",
       "    .dataframe tbody tr th:only-of-type {\n",
       "        vertical-align: middle;\n",
       "    }\n",
       "\n",
       "    .dataframe tbody tr th {\n",
       "        vertical-align: top;\n",
       "    }\n",
       "\n",
       "    .dataframe thead th {\n",
       "        text-align: right;\n",
       "    }\n",
       "</style>\n",
       "<table border=\"1\" class=\"dataframe\">\n",
       "  <thead>\n",
       "    <tr style=\"text-align: right;\">\n",
       "      <th></th>\n",
       "      <th>is_sarcastic</th>\n",
       "      <th>num_words</th>\n",
       "      <th>num_unique_words</th>\n",
       "      <th>num_chars</th>\n",
       "      <th>num_stopwords</th>\n",
       "      <th>num_punctuations</th>\n",
       "      <th>mean_word_len</th>\n",
       "      <th>abort</th>\n",
       "      <th>abus</th>\n",
       "      <th>accept</th>\n",
       "      <th>...</th>\n",
       "      <th>CCONJ_proportion</th>\n",
       "      <th>NUM_proportion</th>\n",
       "      <th>PUNCT_proportion</th>\n",
       "      <th>X_proportion</th>\n",
       "      <th>AUX_proportion</th>\n",
       "      <th>ADV_proportion</th>\n",
       "      <th>VERB_proportion</th>\n",
       "      <th>PART_proportion</th>\n",
       "      <th>PROPN_proportion</th>\n",
       "      <th>NOUN_proportion</th>\n",
       "    </tr>\n",
       "  </thead>\n",
       "  <tbody>\n",
       "    <tr>\n",
       "      <th>0</th>\n",
       "      <td>0.0</td>\n",
       "      <td>12.0</td>\n",
       "      <td>12.0</td>\n",
       "      <td>78.0</td>\n",
       "      <td>2.0</td>\n",
       "      <td>2.0</td>\n",
       "      <td>5.583333</td>\n",
       "      <td>0.0</td>\n",
       "      <td>0.0</td>\n",
       "      <td>0.0</td>\n",
       "      <td>...</td>\n",
       "      <td>0.0</td>\n",
       "      <td>0.0</td>\n",
       "      <td>0.0</td>\n",
       "      <td>0.0</td>\n",
       "      <td>0.0</td>\n",
       "      <td>0.000</td>\n",
       "      <td>0.100000</td>\n",
       "      <td>0.0</td>\n",
       "      <td>0.000000</td>\n",
       "      <td>0.500000</td>\n",
       "    </tr>\n",
       "    <tr>\n",
       "      <th>1</th>\n",
       "      <td>0.0</td>\n",
       "      <td>14.0</td>\n",
       "      <td>14.0</td>\n",
       "      <td>84.0</td>\n",
       "      <td>6.0</td>\n",
       "      <td>3.0</td>\n",
       "      <td>5.071429</td>\n",
       "      <td>0.0</td>\n",
       "      <td>0.0</td>\n",
       "      <td>0.0</td>\n",
       "      <td>...</td>\n",
       "      <td>0.0</td>\n",
       "      <td>0.0</td>\n",
       "      <td>0.0</td>\n",
       "      <td>0.0</td>\n",
       "      <td>0.0</td>\n",
       "      <td>0.125</td>\n",
       "      <td>0.000000</td>\n",
       "      <td>0.0</td>\n",
       "      <td>0.625000</td>\n",
       "      <td>0.125000</td>\n",
       "    </tr>\n",
       "    <tr>\n",
       "      <th>2</th>\n",
       "      <td>1.0</td>\n",
       "      <td>14.0</td>\n",
       "      <td>13.0</td>\n",
       "      <td>79.0</td>\n",
       "      <td>4.0</td>\n",
       "      <td>1.0</td>\n",
       "      <td>4.714286</td>\n",
       "      <td>0.0</td>\n",
       "      <td>0.0</td>\n",
       "      <td>0.0</td>\n",
       "      <td>...</td>\n",
       "      <td>0.0</td>\n",
       "      <td>0.0</td>\n",
       "      <td>0.0</td>\n",
       "      <td>0.0</td>\n",
       "      <td>0.0</td>\n",
       "      <td>0.000</td>\n",
       "      <td>0.222222</td>\n",
       "      <td>0.0</td>\n",
       "      <td>0.333333</td>\n",
       "      <td>0.333333</td>\n",
       "    </tr>\n",
       "    <tr>\n",
       "      <th>3</th>\n",
       "      <td>1.0</td>\n",
       "      <td>13.0</td>\n",
       "      <td>13.0</td>\n",
       "      <td>84.0</td>\n",
       "      <td>5.0</td>\n",
       "      <td>2.0</td>\n",
       "      <td>5.538462</td>\n",
       "      <td>0.0</td>\n",
       "      <td>0.0</td>\n",
       "      <td>0.0</td>\n",
       "      <td>...</td>\n",
       "      <td>0.0</td>\n",
       "      <td>0.0</td>\n",
       "      <td>0.0</td>\n",
       "      <td>0.0</td>\n",
       "      <td>0.0</td>\n",
       "      <td>0.000</td>\n",
       "      <td>0.333333</td>\n",
       "      <td>0.0</td>\n",
       "      <td>0.111111</td>\n",
       "      <td>0.444444</td>\n",
       "    </tr>\n",
       "    <tr>\n",
       "      <th>4</th>\n",
       "      <td>0.0</td>\n",
       "      <td>11.0</td>\n",
       "      <td>11.0</td>\n",
       "      <td>64.0</td>\n",
       "      <td>3.0</td>\n",
       "      <td>2.0</td>\n",
       "      <td>4.909091</td>\n",
       "      <td>0.0</td>\n",
       "      <td>0.0</td>\n",
       "      <td>0.0</td>\n",
       "      <td>...</td>\n",
       "      <td>0.0</td>\n",
       "      <td>0.0</td>\n",
       "      <td>0.0</td>\n",
       "      <td>0.0</td>\n",
       "      <td>0.0</td>\n",
       "      <td>0.000</td>\n",
       "      <td>0.142857</td>\n",
       "      <td>0.0</td>\n",
       "      <td>0.428571</td>\n",
       "      <td>0.428571</td>\n",
       "    </tr>\n",
       "  </tbody>\n",
       "</table>\n",
       "<p>5 rows × 1023 columns</p>\n",
       "</div>"
      ],
      "text/plain": [
       "   is_sarcastic  num_words  num_unique_words  num_chars  num_stopwords  \\\n",
       "0           0.0       12.0              12.0       78.0            2.0   \n",
       "1           0.0       14.0              14.0       84.0            6.0   \n",
       "2           1.0       14.0              13.0       79.0            4.0   \n",
       "3           1.0       13.0              13.0       84.0            5.0   \n",
       "4           0.0       11.0              11.0       64.0            3.0   \n",
       "\n",
       "   num_punctuations  mean_word_len  abort  abus  accept  ...  \\\n",
       "0               2.0       5.583333    0.0   0.0     0.0  ...   \n",
       "1               3.0       5.071429    0.0   0.0     0.0  ...   \n",
       "2               1.0       4.714286    0.0   0.0     0.0  ...   \n",
       "3               2.0       5.538462    0.0   0.0     0.0  ...   \n",
       "4               2.0       4.909091    0.0   0.0     0.0  ...   \n",
       "\n",
       "   CCONJ_proportion  NUM_proportion  PUNCT_proportion  X_proportion  \\\n",
       "0               0.0             0.0               0.0           0.0   \n",
       "1               0.0             0.0               0.0           0.0   \n",
       "2               0.0             0.0               0.0           0.0   \n",
       "3               0.0             0.0               0.0           0.0   \n",
       "4               0.0             0.0               0.0           0.0   \n",
       "\n",
       "   AUX_proportion  ADV_proportion  VERB_proportion  PART_proportion  \\\n",
       "0             0.0           0.000         0.100000              0.0   \n",
       "1             0.0           0.125         0.000000              0.0   \n",
       "2             0.0           0.000         0.222222              0.0   \n",
       "3             0.0           0.000         0.333333              0.0   \n",
       "4             0.0           0.000         0.142857              0.0   \n",
       "\n",
       "   PROPN_proportion  NOUN_proportion  \n",
       "0          0.000000         0.500000  \n",
       "1          0.625000         0.125000  \n",
       "2          0.333333         0.333333  \n",
       "3          0.111111         0.444444  \n",
       "4          0.428571         0.428571  \n",
       "\n",
       "[5 rows x 1023 columns]"
      ]
     },
     "execution_count": 3,
     "metadata": {},
     "output_type": "execute_result"
    }
   ],
   "source": [
    "df=pd.read_csv('../data/Vectorised_Data.csv')#importing vectorised dataframe \n",
    "df.head()"
   ]
  },
  {
   "cell_type": "code",
   "execution_count": 4,
   "id": "4334eace",
   "metadata": {},
   "outputs": [
    {
     "data": {
      "text/plain": [
       "(26147, 1023)"
      ]
     },
     "execution_count": 4,
     "metadata": {},
     "output_type": "execute_result"
    }
   ],
   "source": [
    "df.shape# shape of the data"
   ]
  },
  {
   "cell_type": "code",
   "execution_count": 5,
   "id": "d37ed6bd",
   "metadata": {},
   "outputs": [
    {
     "data": {
      "text/plain": [
       "is_sarcastic        0\n",
       "num_words           0\n",
       "num_unique_words    0\n",
       "num_chars           0\n",
       "num_stopwords       0\n",
       "                   ..\n",
       "ADV_proportion      0\n",
       "VERB_proportion     0\n",
       "PART_proportion     0\n",
       "PROPN_proportion    0\n",
       "NOUN_proportion     0\n",
       "Length: 1023, dtype: int64"
      ]
     },
     "execution_count": 5,
     "metadata": {},
     "output_type": "execute_result"
    }
   ],
   "source": [
    "#checking for nulls\n",
    "df.isnull().sum()"
   ]
  },
  {
   "cell_type": "code",
   "execution_count": 6,
   "id": "c2462c8e",
   "metadata": {},
   "outputs": [],
   "source": [
    "#dropping any nulls\n",
    "df.dropna(inplace=True)"
   ]
  },
  {
   "cell_type": "markdown",
   "id": "c594d904",
   "metadata": {},
   "source": [
    "## train test split"
   ]
  },
  {
   "cell_type": "code",
   "execution_count": 7,
   "id": "4bedb28c",
   "metadata": {},
   "outputs": [],
   "source": [
    "#defining X and y variables\n",
    "y = df.is_sarcastic\n",
    "X = df[[cols for cols in df.columns if cols != \"is_sarcastic\"]]"
   ]
  },
  {
   "cell_type": "code",
   "execution_count": 8,
   "id": "1e72b6ea",
   "metadata": {},
   "outputs": [],
   "source": [
    "#stratification as dataframe was not balanced\n",
    "X_train, X_test, y_train, y_test = train_test_split(X,y,\n",
    "                                                   test_size = 0.20,stratify=y)\n"
   ]
  },
  {
   "cell_type": "markdown",
   "id": "87bc877b",
   "metadata": {},
   "source": [
    "## Standard Scaling"
   ]
  },
  {
   "cell_type": "code",
   "execution_count": 9,
   "id": "dedfbb73",
   "metadata": {},
   "outputs": [],
   "source": [
    "from sklearn.preprocessing import StandardScaler"
   ]
  },
  {
   "cell_type": "code",
   "execution_count": 10,
   "id": "f9bcea2c",
   "metadata": {},
   "outputs": [],
   "source": [
    "# initialize\n",
    "ss = StandardScaler()\n",
    "\n",
    "# fit on Train\n",
    "X_train_ss = pd.DataFrame(ss.fit_transform(X_train),\n",
    "                          columns = X_train.columns,\n",
    "                          index = X_train.index)\n",
    "\n",
    "# transform test\n",
    "X_test_ss = pd.DataFrame(ss.transform(X_test),\n",
    "                         columns = X_test.columns,\n",
    "                         index = X_test.index)"
   ]
  },
  {
   "cell_type": "markdown",
   "id": "c4196db9",
   "metadata": {},
   "source": [
    "## Select KBest"
   ]
  },
  {
   "cell_type": "code",
   "execution_count": 11,
   "id": "73093b25",
   "metadata": {},
   "outputs": [],
   "source": [
    "from sklearn.feature_selection import SelectKBest"
   ]
  },
  {
   "cell_type": "code",
   "execution_count": 12,
   "id": "692a7836",
   "metadata": {},
   "outputs": [
    {
     "data": {
      "text/plain": [
       "SelectKBest(k=100)"
      ]
     },
     "execution_count": 12,
     "metadata": {},
     "output_type": "execute_result"
    }
   ],
   "source": [
    "selector = SelectKBest(k=100)\n",
    "selector.fit(X_train_ss, y_train)"
   ]
  },
  {
   "cell_type": "code",
   "execution_count": 13,
   "id": "2c83f72b",
   "metadata": {},
   "outputs": [],
   "source": [
    "# Get columns to keep and create new dataframe with those only\n",
    "cols = selector.get_support(indices=True)"
   ]
  },
  {
   "cell_type": "code",
   "execution_count": 14,
   "id": "9faf4271",
   "metadata": {},
   "outputs": [],
   "source": [
    "#X_train_feat_select->train df created from selected features \n",
    "#X_test_feat_select->test df created from selected features \n",
    "X_train_feat_select = X_train_ss.iloc[:,cols]\n",
    "X_test_feat_select = X_test_ss.iloc[:,cols]"
   ]
  },
  {
   "cell_type": "code",
   "execution_count": 15,
   "id": "b589d25f",
   "metadata": {},
   "outputs": [],
   "source": [
    "#removed_cols-> columns removed after SelectKBest( )\n",
    "#X_train_feat_removed-> df created from X_train containing columns removed after SelectKBest( )\n",
    "#X_test_feat_removed->df created from X_test containing columns removed after SelectKBest( )\n",
    "removed_cols = [c for c in X_train_ss.columns if c not in X_train_feat_select.columns]\n",
    "X_train_feat_removed = X_train_ss.loc[:,removed_cols]\n",
    "X_test_feat_removed = X_test_ss.loc[:,removed_cols]"
   ]
  },
  {
   "cell_type": "code",
   "execution_count": 16,
   "id": "9883ea20",
   "metadata": {},
   "outputs": [
    {
     "data": {
      "text/plain": [
       "Index(['num_words', 'num_unique_words', 'num_chars', 'num_stopwords',\n",
       "       'num_punctuations', 'mean_word_len', 'air', 'airport', 'alreadi',\n",
       "       'apart', 'ball', 'bar', 'break', 'car', 'career', 'challeng', 'chang',\n",
       "       'comment', 'continu', 'cool', 'crash', 'dress', 'drink', 'driver',\n",
       "       'drunk', 'expect', 'face', 'father', 'fear', 'final', 'generat',\n",
       "       'girlfriend', 'governor', 'graduat', 'halloween', 'health care',\n",
       "       'hillari', 'inspir', 'interview', 'jame', 'journalist', 'justic',\n",
       "       'kill', 'know', 'law', 'lead', 'link', 'littl', 'local', 'loss', 'low',\n",
       "       'messag', 'non', 'paul ryan', 'pay', 'pop', 'press', 'pretti',\n",
       "       'problem', 'push', 'race', 'racist', 'recip', 'reform', 'republican',\n",
       "       'return', 'room', 'ryan', 'sad', 'scienc', 'stori', 'stress', 'sudden',\n",
       "       'super', 'sure', 'tax', 'taylor', 'teacher', 'terrifi', 'thank',\n",
       "       'thousand', 'tour', 'treat', 'true', 'truth', 'union', 'updat', 'urg',\n",
       "       'vacat', 'veteran', 'video', 'view', 'wake', 'wall', 'wast', 'welcom',\n",
       "       'west', 'woman', 'ADP_proportion', 'PART_proportion'],\n",
       "      dtype='object')"
      ]
     },
     "execution_count": 16,
     "metadata": {},
     "output_type": "execute_result"
    }
   ],
   "source": [
    "# Selected Columns\n",
    "X_train_feat_select.columns"
   ]
  },
  {
   "cell_type": "markdown",
   "id": "8bc6cda8",
   "metadata": {},
   "source": [
    "## Models"
   ]
  },
  {
   "cell_type": "markdown",
   "id": "069774b5",
   "metadata": {},
   "source": [
    "### Random Forest"
   ]
  },
  {
   "cell_type": "code",
   "execution_count": 79,
   "id": "0c6b0c28",
   "metadata": {},
   "outputs": [],
   "source": [
    "def rfscore2(X_train, X_test, y_train, y_test,n_estimators,max_depth):\n",
    "   \n",
    "    '''Gridsearching RandomForest'''\n",
    "   \n",
    "    y_test= y_test.values.ravel()\n",
    "    y_train = y_train.values.ravel()\n",
    "    rf_params = {\n",
    "             'n_estimators':n_estimators,\n",
    "             'max_depth':max_depth}   # parameters for grid search\n",
    "    \n",
    "    rf_gs = GridSearchCV(RandomForestClassifier(), rf_params, cv=5, verbose=1, n_jobs=-1)\n",
    "    rf_gs.fit(X_train,y_train) # training the random forest with all possible parameters\n",
    "    print('GridSearch results')\n",
    "    print('The best parameters on the training data are:\\n',rf_gs.best_params_) # printing the best parameters\n",
    "    max_depth_best = rf_gs.best_params_['max_depth']      # getting the best max_depth\n",
    "    n_estimators_best = rf_gs.best_params_['n_estimators']  # getting the best n_estimators\n",
    "    print(\"best max_depth:\",max_depth_best)\n",
    "    print(\"best n_estimators:\",n_estimators_best)\n",
    "    best_rf_gs = RandomForestClassifier(max_depth=max_depth_best,n_estimators=n_estimators_best) # instantiate the best model\n",
    "    \n",
    "    score(best_rf_gs, 'Random Forest', X_train, y_train)\n",
    "    \n",
    "    best_rf_gs.fit(X_train,y_train)  # fitting the best model\n",
    "\n",
    "    preds = best_rf_gs.predict(X_test)\n",
    "    print(\"\")\n",
    "    \n",
    "    disp = confusion_matrix(y_test,preds)\n",
    "    matrix_display = ConfusionMatrixDisplay(confusion_matrix=disp)\n",
    "    matrix_display.plot()\n",
    "\n",
    "    \n",
    "    print(classification_report(y_test,preds))\n",
    "    print(accuracy_score(y_test, preds))\n",
    "\n",
    "    \n",
    "    print('Features and their importance for Random Forest:\\n')\n",
    "    feature_importances = pd.Series(best_rf_gs.feature_importances_, index=X_train.columns).sort_values().tail(10)\n",
    "    fig, ax = plt.subplots(figsize=(10, 10))\n",
    "    print(feature_importances.plot(kind=\"barh\", figsize=(6,6)))\n",
    "    max_width = 0\n",
    "    for rect in ax.patches:\n",
    "        if rect.get_width()>max_width:\n",
    "            max_width = rect.get_width()\n",
    "\n",
    "    for rect in ax.patches:\n",
    "\n",
    "        height = rect.get_height()\n",
    "        width = rect.get_width()\n",
    "        x = rect.get_x()\n",
    "        y = rect.get_y()\n",
    "\n",
    "        label_text = round(width, 2)\n",
    "\n",
    "        label_x = x + width / 2\n",
    "        label_y = y + height / 2\n",
    "\n",
    "        if label_x < max_width*.05:\n",
    "            ax.text(width+.05*max_width, label_y, f'{label_text:.2f}'\n",
    "                            , ha='center', va='center', color = 'black')\n",
    "        else:\n",
    "            ax.text(label_x, label_y, f'{label_text:.2f}'\n",
    "                            , ha='center', va='center', color = 'white')\n",
    "    \n",
    "    return"
   ]
  },
  {
   "cell_type": "code",
   "execution_count": 80,
   "id": "61110bc3",
   "metadata": {},
   "outputs": [],
   "source": [
    "def score(model, name, X, y):\n",
    "    '''Cross val score for specific model, df and target'''\n",
    "    cv = StratifiedKFold(n_splits=10,\n",
    "                         random_state=42,\n",
    "                         shuffle=True)\n",
    "    s = cross_val_score(model, X, y, cv=cv,\n",
    "                        n_jobs=-1)\n",
    "    print('{} Score: {:.2f} +- {:.3f}'.format(name, \n",
    "                                              s.mean(), \n",
    "                                              2 * s.std()))"
   ]
  },
  {
   "cell_type": "code",
   "execution_count": 82,
   "id": "82dbde42",
   "metadata": {},
   "outputs": [
    {
     "name": "stdout",
     "output_type": "stream",
     "text": [
      "Fitting 5 folds for each of 135 candidates, totalling 675 fits\n",
      "GridSearch results\n",
      "The best parameters on the training data are:\n",
      " {'max_depth': 19, 'n_estimators': 40}\n",
      "best max_depth: 19\n",
      "best n_estimators: 40\n",
      "Random Forest Score: 0.65 +- 0.010\n",
      "\n",
      "              precision    recall  f1-score   support\n",
      "\n",
      "         0.0       0.65      0.81      0.72      2969\n",
      "         1.0       0.63      0.44      0.52      2261\n",
      "\n",
      "    accuracy                           0.65      5230\n",
      "   macro avg       0.64      0.62      0.62      5230\n",
      "weighted avg       0.64      0.65      0.63      5230\n",
      "\n",
      "0.6458891013384321\n",
      "Features and their importance for Random Forest:\n",
      "\n",
      "AxesSubplot(0.125,0.125;0.775x0.755)\n"
     ]
    },
    {
     "data": {
      "image/png": "[encoded data removed]",
      "text/plain": [
       "<Figure size 432x288 with 2 Axes>"
      ]
     },
     "metadata": {
      "needs_background": "light"
     },
     "output_type": "display_data"
    },
    {
     "data": {
      "image/png": "[encoded data removed]",
      "text/plain": [
       "<Figure size 432x432 with 1 Axes>"
      ]
     },
     "metadata": {
      "needs_background": "light"
     },
     "output_type": "display_data"
    }
   ],
   "source": [
    "n_estimators = list(range(10,100,10))\n",
    "max_depth = list(range(1, 30, 2)) \n",
    "rfscore2(X_train_feat_select, X_test_feat_select, y_train, y_test,n_estimators,max_depth)"
   ]
  },
  {
   "cell_type": "markdown",
   "id": "cd2fe091",
   "metadata": {},
   "source": [
    "**Observations**:\n",
    "    \n",
    "- num_chars, num_stopwords, mean_word_len, num_punctuations are among most relevant features\n",
    "  with highest values of coefficients.\n",
    "- The model RandomForestClassifier here is 65% accurate in predicting the target class. \n",
    "- This is 9% more accurate than our baseline model with 56% accuracy.\n",
    "- It was more precise in predicting the \"0\" class(non-sarcastic), with a precision of 65%.\n",
    "  The precision for predicting \"No\" is 63%.\n"
   ]
  },
  {
   "cell_type": "markdown",
   "id": "8808de03",
   "metadata": {},
   "source": [
    "### Logistic Regression"
   ]
  },
  {
   "cell_type": "code",
   "execution_count": 20,
   "id": "da745623",
   "metadata": {},
   "outputs": [
    {
     "name": "stderr",
     "output_type": "stream",
     "text": [
      "/usr/local/anaconda3/lib/python3.9/site-packages/sklearn/linear_model/_sag.py:352: ConvergenceWarning: The max_iter was reached which means the coef_ did not converge\n",
      "  warnings.warn(\n",
      "/usr/local/anaconda3/lib/python3.9/site-packages/sklearn/linear_model/_sag.py:352: ConvergenceWarning: The max_iter was reached which means the coef_ did not converge\n",
      "  warnings.warn(\n",
      "/usr/local/anaconda3/lib/python3.9/site-packages/sklearn/linear_model/_sag.py:352: ConvergenceWarning: The max_iter was reached which means the coef_ did not converge\n",
      "  warnings.warn(\n",
      "/usr/local/anaconda3/lib/python3.9/site-packages/sklearn/linear_model/_sag.py:352: ConvergenceWarning: The max_iter was reached which means the coef_ did not converge\n",
      "  warnings.warn(\n",
      "/usr/local/anaconda3/lib/python3.9/site-packages/sklearn/linear_model/_sag.py:352: ConvergenceWarning: The max_iter was reached which means the coef_ did not converge\n",
      "  warnings.warn(\n",
      "/usr/local/anaconda3/lib/python3.9/site-packages/sklearn/linear_model/_sag.py:352: ConvergenceWarning: The max_iter was reached which means the coef_ did not converge\n",
      "  warnings.warn(\n",
      "/usr/local/anaconda3/lib/python3.9/site-packages/sklearn/linear_model/_sag.py:352: ConvergenceWarning: The max_iter was reached which means the coef_ did not converge\n",
      "  warnings.warn(\n",
      "/usr/local/anaconda3/lib/python3.9/site-packages/sklearn/linear_model/_sag.py:352: ConvergenceWarning: The max_iter was reached which means the coef_ did not converge\n",
      "  warnings.warn(\n",
      "/usr/local/anaconda3/lib/python3.9/site-packages/sklearn/linear_model/_sag.py:352: ConvergenceWarning: The max_iter was reached which means the coef_ did not converge\n",
      "  warnings.warn(\n",
      "/usr/local/anaconda3/lib/python3.9/site-packages/sklearn/linear_model/_sag.py:352: ConvergenceWarning: The max_iter was reached which means the coef_ did not converge\n",
      "  warnings.warn(\n"
     ]
    },
    {
     "name": "stdout",
     "output_type": "stream",
     "text": [
      "LogisticRegression(solver='saga')\n",
      "{'penalty': 'l2', 'solver': 'saga'}\n",
      "\n",
      "Baseline: 56%\n",
      "\n",
      "Best Score: 0.629\n",
      "Test Score: 0.6241\n"
     ]
    },
    {
     "name": "stderr",
     "output_type": "stream",
     "text": [
      "/usr/local/anaconda3/lib/python3.9/site-packages/sklearn/linear_model/_sag.py:352: ConvergenceWarning: The max_iter was reached which means the coef_ did not converge\n",
      "  warnings.warn(\n"
     ]
    }
   ],
   "source": [
    "logreg_params = {'penalty': ['l1', 'l2'], \n",
    "                 'solver': ['liblinear', 'saga'],\n",
    "                }\n",
    "\n",
    "logreg_gridsearch = GridSearchCV(LogisticRegression(), \n",
    "                                 logreg_params, \n",
    "                                 cv=5, \n",
    "                                 n_jobs=-1)\n",
    "\n",
    "logreg_gridsearch.fit(X_train_feat_select, y_train.values.ravel())\n",
    "\n",
    "print(logreg_gridsearch.best_estimator_)\n",
    "print(logreg_gridsearch.best_params_)\n",
    "\n",
    "print('\\nBaseline: 56%')\n",
    "\n",
    "print('\\nBest Score:', round(logreg_gridsearch.best_score_, 4))\n",
    "print('Test Score:', round(logreg_gridsearch.score(X_test_feat_select, y_test.values.ravel()), 4))"
   ]
  },
  {
   "cell_type": "code",
   "execution_count": 21,
   "id": "3cef4c98",
   "metadata": {},
   "outputs": [
    {
     "name": "stderr",
     "output_type": "stream",
     "text": [
      "/usr/local/anaconda3/lib/python3.9/site-packages/sklearn/linear_model/_sag.py:352: ConvergenceWarning: The max_iter was reached which means the coef_ did not converge\n",
      "  warnings.warn(\n",
      "/usr/local/anaconda3/lib/python3.9/site-packages/sklearn/linear_model/_sag.py:352: ConvergenceWarning: The max_iter was reached which means the coef_ did not converge\n",
      "  warnings.warn(\n",
      "/usr/local/anaconda3/lib/python3.9/site-packages/sklearn/linear_model/_sag.py:352: ConvergenceWarning: The max_iter was reached which means the coef_ did not converge\n",
      "  warnings.warn(\n",
      "/usr/local/anaconda3/lib/python3.9/site-packages/sklearn/linear_model/_sag.py:352: ConvergenceWarning: The max_iter was reached which means the coef_ did not converge\n",
      "  warnings.warn(\n",
      "/usr/local/anaconda3/lib/python3.9/site-packages/sklearn/linear_model/_sag.py:352: ConvergenceWarning: The max_iter was reached which means the coef_ did not converge\n",
      "  warnings.warn(\n"
     ]
    },
    {
     "name": "stdout",
     "output_type": "stream",
     "text": [
      "Baseline: 56%\n",
      "\n",
      "Train scores: [0.62237094 0.63240918 0.64140569 0.62706192 0.61797753]\n",
      "Mean: 0.628\n",
      "Stdev: 0.016 \n",
      "\n"
     ]
    },
    {
     "name": "stderr",
     "output_type": "stream",
     "text": [
      "/usr/local/anaconda3/lib/python3.9/site-packages/sklearn/linear_model/_sag.py:352: ConvergenceWarning: The max_iter was reached which means the coef_ did not converge\n",
      "  warnings.warn(\n"
     ]
    }
   ],
   "source": [
    "logreg = LogisticRegression(max_iter=500, \n",
    "                            penalty='l2', \n",
    "                            solver='saga')\n",
    "\n",
    "logreg.fit(X_train, y_train.values.ravel())\n",
    "\n",
    "train_scores = cross_val_score(logreg, X_train_feat_select, y_train.values.ravel())\n",
    "print('Train scores:', train_scores)\n",
    "print('Mean:', round(train_scores.mean(), 3))\n",
    "print('Stdev:', round(2 * train_scores.std(), 3), '\\n')\n"
   ]
  },
  {
   "cell_type": "code",
   "execution_count": 83,
   "id": "f905a2e3",
   "metadata": {},
   "outputs": [],
   "source": [
    "### Coefficient Interpretation\n",
    "logreg_coefs_0 = pd.DataFrame(list(zip(X_train_feat_select.columns, np.expm1(logreg.coef_[0]))), \n",
    "                           columns=['features', 'coef'])\n",
    "\n",
    "logreg_coefs_0['abs'] = abs(logreg_coefs_0['coef'])\n",
    "feat_log = logreg_coefs_0.sort_values('abs', ascending=False).head(10)\n",
    "feat_log.set_index('features',inplace=True)"
   ]
  },
  {
   "cell_type": "code",
   "execution_count": 68,
   "id": "9bf47858",
   "metadata": {},
   "outputs": [
    {
     "name": "stdout",
     "output_type": "stream",
     "text": [
      "Features and their importance for logistic regression:\n",
      "\n"
     ]
    },
    {
     "data": {
      "image/png": "[encoded data removed]",
      "text/plain": [
       "<Figure size 432x432 with 1 Axes>"
      ]
     },
     "metadata": {
      "needs_background": "light"
     },
     "output_type": "display_data"
    }
   ],
   "source": [
    "print('Features and their importance for logistic regression:\\n')\n",
    "fig, ax = plt.subplots(figsize=(10, 10))\n",
    "feat_log['abs'].plot(kind=\"barh\", figsize=(6,6))\n",
    "\n",
    "max_width = 0\n",
    "for rect in ax.patches:\n",
    "    if rect.get_width()>max_width:\n",
    "        max_width = rect.get_width()\n",
    "    \n",
    "for rect in ax.patches:\n",
    "\n",
    "    height = rect.get_height()\n",
    "    width = rect.get_width()\n",
    "    x = rect.get_x()\n",
    "    y = rect.get_y()\n",
    "            \n",
    "    label_text = round(width, 2)\n",
    "            \n",
    "    label_x = x + width / 2\n",
    "    label_y = y + height / 2\n",
    "\n",
    "    if label_x < max_width*.05:\n",
    "        ax.text(width+.05*max_width, label_y, f'{label_text:.2f}'\n",
    "                        , ha='center', va='center', color = 'black')\n",
    "    else:\n",
    "        ax.text(label_x, label_y, f'{label_text:.2f}'\n",
    "                        , ha='center', va='center', color = 'white')\n",
    "            \n",
    "plt.gca().invert_yaxis()"
   ]
  },
  {
   "cell_type": "code",
   "execution_count": 65,
   "id": "19189cdb",
   "metadata": {},
   "outputs": [
    {
     "name": "stdout",
     "output_type": "stream",
     "text": [
      "               precision    recall  f1-score   support\n",
      "\n",
      "not_sarcastic       0.65      0.74      0.69      2969\n",
      " is_sarcastic       0.58      0.47      0.52      2261\n",
      "\n",
      "     accuracy                           0.63      5230\n",
      "    macro avg       0.62      0.61      0.61      5230\n",
      " weighted avg       0.62      0.63      0.62      5230\n",
      "\n"
     ]
    },
    {
     "data": {
      "text/plain": [
       "''"
      ]
     },
     "execution_count": 65,
     "metadata": {},
     "output_type": "execute_result"
    },
    {
     "data": {
      "image/png": "[encoded data removed]",
      "text/plain": [
       "<Figure size 432x432 with 2 Axes>"
      ]
     },
     "metadata": {
      "needs_background": "light"
     },
     "output_type": "display_data"
    }
   ],
   "source": [
    "conmat = np.array(confusion_matrix(y_test, \n",
    "                                   logreg.predict(X_test), \n",
    "                                   labels=[0, 1]))\n",
    "\n",
    "print(classification_report(y_test,\n",
    "                            logreg.predict(X_test), \n",
    "                            target_names=['not_sarcastic', 'is_sarcastic']))\n",
    "\n",
    "matrix_display = ConfusionMatrixDisplay(confusion_matrix=conmat, \n",
    "                                        display_labels=logreg.classes_)\n",
    "matrix_display.plot()\n",
    "\n",
    "figure = plt.gcf()\n",
    "figure.set_size_inches(6, 6)\n",
    ";"
   ]
  },
  {
   "cell_type": "markdown",
   "id": "8b44c957",
   "metadata": {},
   "source": [
    "**Observations**:\n",
    "    \n",
    "- This logistic regression model was 62.8% accurate in predicting the  target class. This is 6.8% more accurate than our baseline model with 56% probability.\n",
    "- num_punctuations,NOUN_proportion, num_stopwords are among most relevant features with highest values of coefficients.\n",
    "- The best solver for logistic regression model here is 'saga'\n",
    "- It was most precise in predicting 'not_sarcastic' class with a precision of 65%. The precision for predicting 'is_sarcastic' is 58%.\n"
   ]
  },
  {
   "cell_type": "markdown",
   "id": "0846167d",
   "metadata": {},
   "source": [
    "## Conclusion for this notebook :\n",
    "\n",
    "- RandomForest performed better than Logistic regression in terms of accuracy\n",
    "- The models are not really able to capture the context of the text, no bigrams or trigrams are coming as really relevant which leads to low accuracy scores since sarcasm detection is very subjective."
   ]
  },
  {
   "cell_type": "markdown",
   "id": "90cfdf3f",
   "metadata": {},
   "source": [
    "## Way Forward\n",
    "\n",
    "- I want to see whether particular linear combinations of certain words do well \n",
    "  for detecting sarcasm or not. For that I want to try PCA on all columns, and use   the resulting dataframe to model again. "
   ]
  }
 ],
 "metadata": {
  "kernelspec": {
   "display_name": "Python 3 (ipykernel)",
   "language": "python",
   "name": "python3"
  },
  "language_info": {
   "codemirror_mode": {
    "name": "ipython",
    "version": 3
   },
   "file_extension": ".py",
   "mimetype": "text/x-python",
   "name": "python",
   "nbconvert_exporter": "python",
   "pygments_lexer": "ipython3",
   "version": "3.9.7"
  },
  "toc": {
   "base_numbering": 1,
   "nav_menu": {},
   "number_sections": true,
   "sideBar": true,
   "skip_h1_title": false,
   "title_cell": "Table of Contents",
   "title_sidebar": "Contents",
   "toc_cell": false,
   "toc_position": {},
   "toc_section_display": true,
   "toc_window_display": true
  }
 },
 "nbformat": 4,
 "nbformat_minor": 5
}
